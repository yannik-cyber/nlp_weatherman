{
  "nbformat": 4,
  "nbformat_minor": 0,
  "metadata": {
    "colab": {
      "name": "Weather_API_Exploration_Notebook.ipynb",
      "provenance": [],
      "collapsed_sections": []
    },
    "kernelspec": {
      "name": "python3",
      "display_name": "Python 3"
    },
    "language_info": {
      "name": "python"
    }
  },
  "cells": [
    {
      "cell_type": "code",
      "metadata": {
        "id": "HRBTNxeVGw2K"
      },
      "source": [
        "!pip install pyowm\n",
        "from pyowm import OWM\n",
        "from pyowm.utils import config\n",
        "from pyowm.utils import timestamps\n",
        "import json\n",
        "import requests\n",
        "from datetime import datetime\n",
        "from IPython.display import clear_output\n",
        "import pandas as pd\n",
        "from datetime import date\n",
        "\n",
        "clear_output()"
      ],
      "execution_count": null,
      "outputs": []
    },
    {
      "cell_type": "markdown",
      "metadata": {
        "id": "n5sdqan5QxjV"
      },
      "source": [
        "#Call Weather API"
      ]
    },
    {
      "cell_type": "code",
      "source": [
        "def get_weather(city_name, timeslot):\n",
        "  \n",
        "  api_key = \"b7401d9b77454d7d12cc88ae4af4b510\"\n",
        "  response = requests.get(f\"http://api.openweathermap.org/geo/1.0/direct?q={city_name}&limit=5&appid={api_key}\")\n",
        "  data = json.loads(response.text)\n",
        "  lat = data[0][\"lat\"]\n",
        "  lon = data[0]['lon']\n",
        "  exclude = \"minutely,hourly,alerts\"\n",
        "  response = requests.get(f\"https://api.openweathermap.org/data/2.5/onecall?lat={lat}&lon={lon}&exclude={exclude}&appid={api_key}&units=metric\")\n",
        "  weather_data = json.loads(response.text)\n",
        "\n",
        "  # create dataframe \n",
        "  daily = weather_data['daily']\n",
        "  df = pd.DataFrame.from_records(daily)\n",
        "  df['dt'] = pd.to_datetime(df['dt'],unit='s').dt.normalize()\n",
        "  df['sunrise'] = pd.to_datetime(df['sunrise'],unit='s')\n",
        "  df['sunset'] = pd.to_datetime(df['sunset'],unit='s')\n",
        "\n",
        "  if timeslot == \"today\":\n",
        "    df = df.loc[[0]]\n",
        "    return df\n",
        "\n",
        "  if timeslot == \"tomorrow\":\n",
        "    df = df.loc[[1]].reset_index()\n",
        "    return df\n"
      ],
      "metadata": {
        "id": "UmbOiXFIlBAL"
      },
      "execution_count": null,
      "outputs": []
    },
    {
      "cell_type": "code",
      "source": [
        "# Just for your info of the df\n",
        "df = get_weather(\"Mainz\", \"tomorrow\")\n",
        "df"
      ],
      "metadata": {
        "colab": {
          "base_uri": "https://localhost:8080/",
          "height": 115
        },
        "id": "3lfY1ajiilca",
        "outputId": "87be62b4-7397-4f18-aff1-1f0450f27869"
      },
      "execution_count": null,
      "outputs": [
        {
          "output_type": "execute_result",
          "data": {
            "text/html": [
              "<div>\n",
              "<style scoped>\n",
              "    .dataframe tbody tr th:only-of-type {\n",
              "        vertical-align: middle;\n",
              "    }\n",
              "\n",
              "    .dataframe tbody tr th {\n",
              "        vertical-align: top;\n",
              "    }\n",
              "\n",
              "    .dataframe thead th {\n",
              "        text-align: right;\n",
              "    }\n",
              "</style>\n",
              "<table border=\"1\" class=\"dataframe\">\n",
              "  <thead>\n",
              "    <tr style=\"text-align: right;\">\n",
              "      <th></th>\n",
              "      <th>index</th>\n",
              "      <th>dt</th>\n",
              "      <th>sunrise</th>\n",
              "      <th>sunset</th>\n",
              "      <th>moonrise</th>\n",
              "      <th>moonset</th>\n",
              "      <th>moon_phase</th>\n",
              "      <th>temp</th>\n",
              "      <th>feels_like</th>\n",
              "      <th>pressure</th>\n",
              "      <th>humidity</th>\n",
              "      <th>dew_point</th>\n",
              "      <th>wind_speed</th>\n",
              "      <th>wind_deg</th>\n",
              "      <th>wind_gust</th>\n",
              "      <th>weather</th>\n",
              "      <th>clouds</th>\n",
              "      <th>pop</th>\n",
              "      <th>uvi</th>\n",
              "    </tr>\n",
              "  </thead>\n",
              "  <tbody>\n",
              "    <tr>\n",
              "      <th>0</th>\n",
              "      <td>1</td>\n",
              "      <td>2021-12-15</td>\n",
              "      <td>2021-12-15 07:19:00</td>\n",
              "      <td>2021-12-15 15:25:16</td>\n",
              "      <td>1639574820</td>\n",
              "      <td>1639538640</td>\n",
              "      <td>0.39</td>\n",
              "      <td>{'day': 6.42, 'min': 4.36, 'max': 7.29, 'night...</td>\n",
              "      <td>{'day': 6.42, 'night': 4.66, 'eve': 5.56, 'mor...</td>\n",
              "      <td>1033</td>\n",
              "      <td>84</td>\n",
              "      <td>3.51</td>\n",
              "      <td>0.69</td>\n",
              "      <td>176</td>\n",
              "      <td>0.73</td>\n",
              "      <td>[{'id': 804, 'main': 'Clouds', 'description': ...</td>\n",
              "      <td>94</td>\n",
              "      <td>0</td>\n",
              "      <td>0.21</td>\n",
              "    </tr>\n",
              "  </tbody>\n",
              "</table>\n",
              "</div>"
            ],
            "text/plain": [
              "   index         dt             sunrise  ... clouds  pop   uvi\n",
              "0      1 2021-12-15 2021-12-15 07:19:00  ...     94    0  0.21\n",
              "\n",
              "[1 rows x 19 columns]"
            ]
          },
          "metadata": {},
          "execution_count": 6
        }
      ]
    },
    {
      "cell_type": "markdown",
      "source": [
        "#Intent functions"
      ],
      "metadata": {
        "id": "cBdIqQjWf_4O"
      }
    },
    {
      "cell_type": "code",
      "source": [
        "def get_general_weather(location, time):\n",
        "  if location == '':\n",
        "    city_name = 'Mannheim'\n",
        "\n",
        "  else:\n",
        "    city_name = location\n",
        "\n",
        "  df = get_weather(city_name, time)\n",
        "  temp = int(df[\"temp\"][0][\"day\"])\n",
        "  feels_like = int(df[\"feels_like\"][0][\"day\"])\n",
        "  description = str(df[\"weather\"][0][0][\"description\"])\n",
        "\n",
        "  return temp, feels_like, description, city_name"
      ],
      "metadata": {
        "id": "q4wssVwXZpss"
      },
      "execution_count": null,
      "outputs": []
    },
    {
      "cell_type": "code",
      "source": [
        "def get_rain(location, time):\n",
        "  if location == '':\n",
        "    city_name = 'Mannheim'\n",
        "\n",
        "  else:\n",
        "    city_name = location\n",
        "  df = get_weather(city_name, time)\n",
        "  rain_prob = int(df[\"pop\"][0]*100)\n",
        "\n",
        "  return rain_prob, city_name"
      ],
      "metadata": {
        "id": "paThKYx9r6j3"
      },
      "execution_count": null,
      "outputs": []
    },
    {
      "cell_type": "code",
      "source": [
        "def get_clouds(location, time):\n",
        "  if location == '':\n",
        "    city_name = 'Mannheim'\n",
        "\n",
        "  else:\n",
        "    city_name = location\n",
        "\n",
        "  df = get_weather(city_name, time)\n",
        "  cloudiness = int(df[\"clouds\"][0])\n",
        "\n",
        "  return cloudiness, city_name"
      ],
      "metadata": {
        "id": "sV3UH96JW8ZD"
      },
      "execution_count": null,
      "outputs": []
    },
    {
      "cell_type": "code",
      "source": [
        "def get_sunny(location, time):\n",
        "  if location == '':\n",
        "    city_name = 'Mannheim'\n",
        "\n",
        "  else:\n",
        "    city_name = location\n",
        "\n",
        "  df = get_weather(city_name, time)\n",
        "  sunlight = 100-int(df[\"clouds\"][0])\n",
        "  uv_radiation = df[\"uvi\"][0]\n",
        "\n",
        "  return sunlight, uv_radiation, city_name"
      ],
      "metadata": {
        "id": "h6jlcsU7bwFn"
      },
      "execution_count": null,
      "outputs": []
    },
    {
      "cell_type": "code",
      "source": [
        "def get_sun_hours(location, time):\n",
        "  if location == '':\n",
        "    city_name = 'Mannheim'\n",
        "\n",
        "  else:\n",
        "    city_name = location\n",
        "\n",
        "  df = get_weather(city_name, time)\n",
        "  sunrise = str(df[\"sunrise\"][0])[11:]\n",
        "  sunset = str(df[\"sunset\"][0])[11:]\n",
        "\n",
        "  return sunrise, sunset, city_name"
      ],
      "metadata": {
        "id": "JoOwjp9iYBBO"
      },
      "execution_count": null,
      "outputs": []
    },
    {
      "cell_type": "code",
      "source": [
        "def get_temperature(location, time):\n",
        "  if location == '':\n",
        "    city_name = 'Mannheim'\n",
        "\n",
        "  else:\n",
        "    city_name = location\n",
        "\n",
        "  df = get_weather(city_name, time)\n",
        "  temp_day = int(df[\"temp\"][0][\"day\"])\n",
        "  temp_night = int(df[\"temp\"][0][\"night\"])\n",
        "  temp_eve = int(df[\"temp\"][0][\"eve\"])\n",
        "\n",
        "  return temp_day, temp_night, temp_eve, city_name"
      ],
      "metadata": {
        "id": "cNm1iroCd-nx"
      },
      "execution_count": null,
      "outputs": []
    },
    {
      "cell_type": "code",
      "source": [
        "def get_wind(location, time):\n",
        "  if location == '':\n",
        "    city_name = 'Mannheim'\n",
        "\n",
        "  else:\n",
        "    city_name = location\n",
        "\n",
        "  df = get_weather(city_name, time)\n",
        "  wind_speed = df[\"wind_speed\"][0]\n",
        "\n",
        "  return wind_speed, city_name"
      ],
      "metadata": {
        "id": "ol97LYQHnLMs"
      },
      "execution_count": null,
      "outputs": []
    },
    {
      "cell_type": "markdown",
      "source": [
        "#Inputs from NLP"
      ],
      "metadata": {
        "id": "HbVJ0fS7gcue"
      }
    },
    {
      "cell_type": "code",
      "source": [
        "# example inputs\n",
        "location = 'Wien'\n",
        "time = 'tomorrow'\n",
        "intent = 'wind'\n",
        "\n",
        "#set default time if mo time is given\n",
        "if time == '':\n",
        "  time = 'today'"
      ],
      "metadata": {
        "id": "f-vO0xi2gcTH"
      },
      "execution_count": null,
      "outputs": []
    },
    {
      "cell_type": "markdown",
      "source": [
        "#Outputs for the chatbot"
      ],
      "metadata": {
        "id": "YHyX3b9QgCta"
      }
    },
    {
      "cell_type": "code",
      "source": [
        "if intent == 'general_weather':\n",
        "  temp, feels_like, description, city_name = get_general_weather(location, time)\n",
        "  output = f\"{time.capitalize()} in {city_name} the following is reported: {description.capitalize()}. Temperature is {temp} degrees, it feels like {feels_like} degrees.\"\n",
        "\n",
        "if intent == 'rain':\n",
        "  rain_prob, city_name = get_rain(location, time)\n",
        "  if rain_prob > 50:\n",
        "    output = f'The probabilty of {intent} in {city_name} for {time} is: {rain_prob}%. Better take an umbrella with you!'\n",
        "  else:\n",
        "    output = f'The probabilty of {intent} in {city_name} for {time} is: {rain_prob}%. Guess you wont need an umbrella!'\n",
        "\n",
        "elif intent == 'cloud':\n",
        "  cloudiness, city_name = get_clouds(location, time)\n",
        "  output = f'The cloud density in {city_name} for {time} is: {cloudiness}%'\n",
        "\n",
        "elif intent == 'sunny':\n",
        "  sunlight, uv_radiation, city_name = get_sunny(location, time)\n",
        "  if uv_radiation > 3:\n",
        "    output = f\"{time.capitalize()} the sun in {city_name} will shine with {sunlight}% and the maximum uv index is {uv_radiation}. I would recommend a sun hat!\"\n",
        "  else:\n",
        "    output = f\"{time.capitalize()} the sun in {city_name} will shine with {sunlight}% and the maximum uv index is {uv_radiation}\"\n",
        "  \n",
        "elif intent == 'sun_hours':\n",
        "  sunrise, sunset, city_name = get_sun_hours(location, time)\n",
        "  output = f'{time.capitalize()} the sun in {city_name} will rise at {sunrise} and set at {sunset} UTC'\n",
        "\n",
        "elif intent == 'temperature':\n",
        "  temp_day, temp_night, temp_eve, city_name = get_temperature(location, time)\n",
        "  if temp_day <= 5:\n",
        "     output = f\"{time.capitalize()} in {city_name} the temperature will be {temp_day}°C during the day, {temp_eve}°C in the evening and {temp_night}°C at night. I would recommend to wear a scarf!\"\n",
        "  else:\n",
        "    output = f\"{time.capitalize()} in {city_name} the temperature will be {temp_day}°C during the day, {temp_eve}°C in the evening and {temp_night}°C at night\"\n",
        "\n",
        "elif intent == 'wind':\n",
        "  wind_speed, city_name = get_wind(location, time)\n",
        "  output = f'{time.capitalize()} the wind in {city_name} will be {wind_speed} km/h fast.'\n",
        "\n",
        "elif intent == 'good_bad':\n",
        "  output = \"Grillenziepen\"\n",
        "\n",
        "print(output)"
      ],
      "metadata": {
        "colab": {
          "base_uri": "https://localhost:8080/"
        },
        "id": "0yDiJcP0U-H7",
        "outputId": "75fa99ef-e256-4740-9465-1ad8a9424fd8"
      },
      "execution_count": null,
      "outputs": [
        {
          "output_type": "stream",
          "name": "stdout",
          "text": [
            "Tomorrow the wind in Wien will be 6.9 km/h fast.\n"
          ]
        }
      ]
    }
  ]
}